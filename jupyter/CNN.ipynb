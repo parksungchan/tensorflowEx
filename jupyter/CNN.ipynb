{
 "cells": [
  {
   "cell_type": "markdown",
   "metadata": {},
   "source": [
    "# CNN Network : Create\n",
    "(CNN Network를 생성해 준다. ID가 같은 CNN Network가 있으면 재 생성 하지 않는다.)<br>\n",
    "\n",
    "nn_id : Neural Network ID<br>\n",
    "biz_cate : Business 대분류<br>\n",
    "biz_sub_cate : Business 소분류<br>\n",
    "nn_title : Neural Network Title<br>\n",
    "nn_desc : Neural Network Description<br>\n",
    "nn_wf_ver_info : Neural Network Workflow Info<br>\n",
    "use_flag : 사용여부<br>\n",
    "dir : 문제유형<br>\n",
    "config : Custom 여부<br>\n",
    "network_type : network<br>\n",
    "node_sub_menu : Trainning & Eval Data menu<br>"
   ]
  },
  {
   "cell_type": "code",
   "execution_count": 29,
   "metadata": {
    "collapsed": false
   },
   "outputs": [
    {
     "name": "stdout",
     "output_type": "stream",
     "text": [
      "insert nn_info evaluation result : nn00004\n"
     ]
    }
   ],
   "source": [
    "import requests\n",
    "import json, os\n",
    "\n",
    "url = \"{0}:{1}\".format(os.environ['HOSTNAME'] , \"8000\")\n",
    "\n",
    "nn_id = \"nn00004\"\n",
    "biz_cate = \"ERP\"\n",
    "biz_sub_cate = \"MRO\"\n",
    "nn_title = \"MRO Image Classification\"\n",
    "nn_desc = \"MRO Image Classification\"\n",
    "nn_wf_ver_info = \"MRO Image Classification\"\n",
    "use_flag = \"Y\"\n",
    "dirstr = \"purpose?\"\n",
    "config = \"N\"\n",
    "network_type = \"cnn\"\n",
    "node_sub_menu = \"data_image\"\n",
    "\n",
    "#insert nn_info\n",
    "resp = requests.post('http://' + url + '/api/v1/type/common/target/nninfo/',\n",
    "                     json={\n",
    "                         \"nn_id\": nn_id,\n",
    "                         \"biz_cate\": biz_cate,\n",
    "                         \"biz_sub_cate\": biz_sub_cate,\n",
    "                         \"nn_title\" : nn_title,\n",
    "                         \"nn_desc\": nn_desc,\n",
    "                         \"use_flag\" : use_flag,\n",
    "                         \"dir\": dirstr,\n",
    "                         \"config\": config\n",
    "                     })\n",
    "data = json.loads(resp.json())\n",
    "print(\"insert nn_info evaluation result : {0}\".format(data))\n"
   ]
  },
  {
   "cell_type": "markdown",
   "metadata": {
    "collapsed": true
   },
   "source": [
    "# CNN Network WorkFlow : Create\n",
    "(CNN Network WorkFlow를 생성해 준다. 실행할 때마다 신규 버전을 새로 생성 한다.)<br>\n",
    "\n",
    "nn_def_list_info_nn_id : 값을 넘기지 않아도 됨.<br>\n",
    "nn_wf_ver_info : Work Flow Version Description<br>\n",
    "condition :<br>\n",
    "active_flag : 사용여부<br>\n"
   ]
  },
  {
   "cell_type": "code",
   "execution_count": 12,
   "metadata": {
    "collapsed": false
   },
   "outputs": [
    {
     "name": "stdout",
     "output_type": "stream",
     "text": [
      "insert nn_info Work Flow Create\n"
     ]
    }
   ],
   "source": [
    "resp = requests.post('http://' + url + '/api/v1/type/common/target/nninfo/'+nn_id+'/version/',\n",
    "                     json={\n",
    "                         \"nn_def_list_info_nn_id\": \"\",\n",
    "                         \"nn_wf_ver_info\": nn_wf_ver_info,\n",
    "                         \"condition\": \"1\",\n",
    "                         \"active_flag\": \"N\"\n",
    "                     })\n",
    "data = json.loads(resp.json())\n",
    "print(\"insert nn_info Work Flow Create\")"
   ]
  },
  {
   "cell_type": "markdown",
   "metadata": {
    "collapsed": true
   },
   "source": [
    "# CNN Network WorkFlow : Get Active Version \n",
    "(여러개의 CNN Network WorkFlow중 Active한 Version을 가져온다.)<br>"
   ]
  },
  {
   "cell_type": "code",
   "execution_count": 15,
   "metadata": {
    "collapsed": false
   },
   "outputs": [
    {
     "name": "stdout",
     "output_type": "stream",
     "text": [
      "Version=1 active=N\n",
      "Version=2 active=N\n",
      "Version=3 active=N\n",
      "Version=4 active=N\n",
      "Version=5 active=N\n",
      "Version=6 active=N\n",
      "Version=7 active=N\n",
      "Version=8 active=N\n",
      "Version=9 active=N\n",
      "Version=10 active=N\n",
      "Version=11 active=N\n",
      "Version=12 active=N\n",
      "Version=13 active=N\n",
      "Version=14 active=N\n",
      "Version=15 active=N\n",
      "Version=16 active=N\n",
      "Version=17 active=N\n",
      "Version=18 active=N\n",
      "Version=19 active=N\n",
      "Version=20 active=N\n",
      "Version=21 active=N\n",
      "Version=22 active=N\n",
      "Version=23 active=N\n",
      "Version=24 active=N\n",
      "Version=25 active=N\n",
      "Version=26 active=N\n",
      "Version=27 active=N\n",
      "Version=28 active=N\n",
      "Version=29 active=N\n",
      "Version=30 active=N\n",
      "Version=31 active=N\n",
      "Version=32 active=N\n",
      "Version=33 active=N\n",
      "Version=34 active=N\n",
      "Version=35 active=N\n",
      "Version=36 active=N\n",
      "Version=37 active=N\n",
      "Version=38 active=N\n",
      "Version=39 active=N\n",
      "Version=40 active=N\n",
      "Version=41 active=Y\n",
      "Active Version Workflow ID=41\n"
     ]
    }
   ],
   "source": [
    "# get workflow version info\n",
    "resp = requests.get('http://' + url + '/api/v1/type/common/target/nninfo/'+nn_id+'/version/')\n",
    "data = json.loads(resp.json())\n",
    "\n",
    "# get Active workflow version\n",
    "wf_ver_id = 0\n",
    "data = sorted(data, key=lambda k: k['pk'])\n",
    "for config in data:\n",
    "    print(\"Version=\"+str(config[\"pk\"])+\" active=\"+str(config[\"fields\"][\"active_flag\"]))\n",
    "    if config[\"fields\"][\"active_flag\"] == \"Y\":\n",
    "        wf_ver_id = config[\"pk\"]\n",
    "\n",
    "wf_ver_id = str(wf_ver_id)\n",
    "print(\"Active Version Workflow ID=\"+wf_ver_id)\n",
    "\n",
    "# get Max workflow version\n",
    "wf_ver_id = 0\n",
    "for i in data:\n",
    "    if i[\"pk\"] > wf_ver_id:\n",
    "        wf_ver_id = i[\"pk\"]\n",
    "\n",
    "wf_ver_id = str(wf_ver_id)"
   ]
  },
  {
   "cell_type": "markdown",
   "metadata": {
    "collapsed": true
   },
   "source": [
    "# CNN Network WorkFlow : Set Active Version\n",
    "(여러개의 CNN Network WorkFlow중 특정 Version을 Active 시킨다. Active한 Version은 한 개만 존재 할 수 있다.)<br>\n",
    "\n",
    "wf_ver_id : active version"
   ]
  },
  {
   "cell_type": "code",
   "execution_count": 14,
   "metadata": {
    "collapsed": false
   },
   "outputs": [
    {
     "name": "stdout",
     "output_type": "stream",
     "text": [
      "Update active workflow version info evaluation result : 41\n"
     ]
    }
   ],
   "source": [
    "# update workflow version info\n",
    "resp = requests.put('http://' + url + '/api/v1/type/common/target/nninfo/'+nn_id+'/version/',\n",
    "                     json={\n",
    "                         \"nn_wf_ver_id\": wf_ver_id,\n",
    "                         \"nn_def_list_info_nn_id\": \"\",\n",
    "                         \"nn_wf_ver_info\": nn_wf_ver_info,\n",
    "                         \"condition\": \"1\",\n",
    "                         \"active_flag\": \"Y\"\n",
    "                     })\n",
    "data = json.loads(resp.json())\n",
    "print(\"Update active workflow version info evaluation result : {0}\".format(data))"
   ]
  },
  {
   "cell_type": "markdown",
   "metadata": {
    "collapsed": true
   },
   "source": [
    "# CNN Network WorkFlow Node : Create\n",
    "(CNN Network WorkFlow Node를 생성해 준다. 기존 Node가 있으면 재 생성 하지 않는다.)<br>"
   ]
  },
  {
   "cell_type": "code",
   "execution_count": 16,
   "metadata": {
    "collapsed": false
   },
   "outputs": [
    {
     "name": "stdout",
     "output_type": "stream",
     "text": [
      "insert workflow version node info evaluation result : cnn\n"
     ]
    }
   ],
   "source": [
    "# insert workflow version node info\n",
    "resp = requests.post('http://' + url + '/api/v1/type/wf/target/init/mode/simple/'+nn_id+'/wfver/'+wf_ver_id+'/',\n",
    "                     json={\n",
    "                         \"type\": network_type\n",
    "                     })\n",
    "data = json.loads(resp.json())\n",
    "print(\"insert workflow version node info evaluation result : {0}\".format(data))"
   ]
  },
  {
   "cell_type": "markdown",
   "metadata": {
    "collapsed": true
   },
   "source": [
    "# CNN Network WorkFlow Node : Network Config Setup\n",
    "(CNN Network WorkFlow Node의 Network Config를 Setup 해준다.)<br>\n",
    "learnrate : Tensorflow의 Optimizer 학습 속도\n",
    "traincnt : 학습 카운트\n",
    "batch_size : 이미지 개수\n",
    "num_classes : 학습 Category 개수\n",
    "predictcnt : 예측 후 리턴 받는 Category 개수\n",
    "layeroutputs : 각 layer output size"
   ]
  },
  {
   "cell_type": "code",
   "execution_count": 17,
   "metadata": {
    "collapsed": false
   },
   "outputs": [
    {
     "name": "stdout",
     "output_type": "stream",
     "text": [
      "insert workflow node conf info evaluation result : {'layer1': {'type': 'cnn', 'layercnt': 2, 'padding': 'SAME', 'droprate': '0.8', 'maxpoolmatrix': [2, 2], 'cnnfilter': [3, 3], 'active': 'relu', 'cnnstride': [1, 1], 'maxpoolstride': [2, 2]}, 'config': {'batch_size': 10000, 'layeroutputs': 32, 'traincnt': 100, 'predictcnt': 10, 'learnrate': 0.001, 'num_classes': 10}, 'modelname': 'model_nn00004_41', 'modelpath': '/hoya_model_root/nn00004/41/netconf_node', 'layer2': {'type': 'cnn', 'layercnt': 1, 'padding': 'SAME', 'droprate': '0.8', 'maxpoolmatrix': [2, 2], 'cnnfilter': [3, 3], 'active': 'relu', 'cnnstride': [1, 1], 'maxpoolstride': [2, 2]}, 'out': {'padding': 'SAME', 'node_out': 625, 'active': 'softmax'}}\n"
     ]
    }
   ],
   "source": [
    "node = \"netconf_node\"\n",
    "resp = requests.put('http://' + url + '/api/v1/type/wf/state/netconf/detail/cnn/nnid/'+nn_id+'/ver/'+wf_ver_id+'/node/'+node+'/',\n",
    "                     json={\n",
    "                         \"config\": {\"learnrate\": 0.001,\n",
    "                                     \"traincnt\": 100,\n",
    "                                     \"batch_size\":10000,\n",
    "                                     \"num_classes\":10,\n",
    "                                     \"predictcnt\": 10,\n",
    "                                     \"layeroutputs\":32\n",
    "                                     }\n",
    "                         ,\"layer1\": {\"type\": \"cnn\",\n",
    "                                     \"active\": \"relu\",\n",
    "                                     \"cnnfilter\": [3, 3],\n",
    "                                     \"cnnstride\": [1, 1],\n",
    "                                     \"maxpoolmatrix\": [2, 2],\n",
    "                                     \"maxpoolstride\": [2, 2],\n",
    "                                     \"padding\": \"SAME\",\n",
    "                                     \"droprate\": \"0.8\",\n",
    "                                     \"layercnt\":2\n",
    "                                    }\n",
    "                         ,\"layer2\": {\"type\": \"cnn\",\n",
    "                                     \"active\": \"relu\",\n",
    "                                     \"cnnfilter\": [3, 3],\n",
    "                                     \"cnnstride\": [1, 1],\n",
    "                                     \"maxpoolmatrix\": [2, 2],\n",
    "                                     \"maxpoolstride\": [2, 2],\n",
    "                                     \"padding\": \"SAME\",\n",
    "                                     \"droprate\": \"0.8\",\n",
    "                                     \"layercnt\":1\n",
    "                                    }\n",
    "                          ,\"out\": {\"active\": \"softmax\",\n",
    "                                   \"node_out\": 625,\n",
    "                                   \"padding\": \"SAME\"\n",
    "                                }\n",
    "                        })\n",
    "netconf = json.loads(resp.json())\n",
    "print(\"insert workflow node conf info evaluation result : {0}\".format(netconf))"
   ]
  },
  {
   "cell_type": "markdown",
   "metadata": {
    "collapsed": true
   },
   "source": [
    "# CNN Network WorkFlow Node :  Data Config Setup\n",
    "(CNN Network WorkFlow Node의 Data Config를 Setup 해준다.)<br>\n",
    "x_size : 이미지 가로 크기<br>\n",
    "y_size : 이미지 세로 크기<br>\n",
    "channel : 3 컬러 1 흑백<br>\n",
    "labels : 입력 하지 않는다.<br>"
   ]
  },
  {
   "cell_type": "code",
   "execution_count": 18,
   "metadata": {
    "collapsed": false
   },
   "outputs": [
    {
     "name": "stdout",
     "output_type": "stream",
     "text": [
      "insert workflow node conf info evaluation result : {'store_path': '/hoya_str_root/nn00004/41/datasrc', 'source_path': '/hoya_src_root/nn00004/41/datasrc', 'labels': [], 'preprocess': {'y_size': 32, 'channel': 3, 'x_size': 32}}\n"
     ]
    }
   ],
   "source": [
    "node = \"datasrc\"\n",
    "resp = requests.put('http://' + url + '/api/v1/type/wf/state/imgdata/src/local/form/file/prg/source/nnid/'+nn_id+'/ver/'+wf_ver_id+'/node/'+node+'/',\n",
    "                     json={\n",
    "                            \"preprocess\": {\"x_size\": 32,\n",
    "                                        \"y_size\": 32,\n",
    "                                        \"channel\":3}\n",
    "                         ,\"labels\":[]\n",
    "\n",
    "                     })\n",
    "dataconf = json.loads(resp.json())\n",
    "print(\"insert workflow node conf info evaluation result : {0}\".format(dataconf))"
   ]
  },
  {
   "cell_type": "markdown",
   "metadata": {},
   "source": [
    "# CNN Network WorkFlow Node :  Eval Config Setup"
   ]
  },
  {
   "cell_type": "code",
   "execution_count": 19,
   "metadata": {
    "collapsed": false
   },
   "outputs": [
    {
     "name": "stdout",
     "output_type": "stream",
     "text": [
      "insert workflow node conf info evaluation result : {'modelname': 'model_nn00004_41', 'modelpath': '/hoya_model_root/nn00004/41/eval_node'}\n"
     ]
    }
   ],
   "source": [
    "node = \"eval_node\"\n",
    "resp = requests.put('http://' + url + '/api/v1/type/wf/state/netconf/detail/cnn/nnid/'+nn_id+'/ver/'+wf_ver_id+'/node/'+node+'/',json={})\n",
    "evalconf = json.loads(resp.json())\n",
    "print(\"insert workflow node conf info evaluation result : {0}\".format(evalconf))"
   ]
  },
  {
   "cell_type": "markdown",
   "metadata": {},
   "source": [
    "# CNN Network WorkFlow Node :  Eval Data Config Setup\n",
    "(CNN Network WorkFlow Node의 Data Config를 Setup 해준다.)<br>\n",
    "x_size : 이미지 가로 크기<br>\n",
    "y_size : 이미지 세로 크기<br>\n",
    "channel : 3 컬러 1 흑백<br>\n",
    "labels : 입력 하지 않는다.<br>"
   ]
  },
  {
   "cell_type": "code",
   "execution_count": 20,
   "metadata": {
    "collapsed": false
   },
   "outputs": [
    {
     "name": "stdout",
     "output_type": "stream",
     "text": [
      "insert workflow node conf info evaluation result : {'store_path': '/hoya_str_root/nn00004/41/evaldata', 'source_path': '/hoya_src_root/nn00004/41/evaldata', 'labels': [], 'preprocess': {'y_size': 32, 'channel': 3, 'x_size': 32}}\n"
     ]
    }
   ],
   "source": [
    "node = 'evaldata'\n",
    "resp = requests.put('http://' + url + '/api/v1/type/wf/state/imgdata/src/local/form/file/prg/source/nnid/'+nn_id+'/ver/'+wf_ver_id+'/node/'+node+'/',\n",
    "                     json={\n",
    "                            \"preprocess\": {\"x_size\": 32,\n",
    "                                        \"y_size\": 32,\n",
    "                                        \"channel\":3}\n",
    "                         ,\"labels\":[]\n",
    "\n",
    "                     })\n",
    "edataconf = json.loads(resp.json())\n",
    "print(\"insert workflow node conf info evaluation result : {0}\".format(edataconf))"
   ]
  },
  {
   "cell_type": "markdown",
   "metadata": {
    "collapsed": true
   },
   "source": [
    " "
   ]
  },
  {
   "cell_type": "markdown",
   "metadata": {
    "collapsed": true
   },
   "source": [
    " "
   ]
  },
  {
   "cell_type": "markdown",
   "metadata": {},
   "source": [
    "# Trainning & Eval Data Transfer\n",
    "(CNN Network Train을 할 수 있게 Data를 특정 장소에 전송해 준다.)<br>"
   ]
  },
  {
   "cell_type": "code",
   "execution_count": 35,
   "metadata": {
    "collapsed": false
   },
   "outputs": [
    {
     "name": "stdout",
     "output_type": "stream",
     "text": [
      "get file node list\n",
      "{'nn_wf_node_name': 'datasrc', 'nn_wf_node_id': 'nn00004_41_datasrc', 'nn_wf_node_desc': 'Train Data Node'}\n",
      "{'nn_wf_node_name': 'evaldata', 'nn_wf_node_id': 'nn00004_41_evaldata', 'nn_wf_node_desc': 'Evaluation Data Node'}\n",
      "\n",
      "create file node list\n",
      "{'File1': {'File': 'File Create.(/hoya_src_root/nn00004/41/datasrc/sample_cnn_img.zip2)'}, 'File0': {'File': 'File Create.(/hoya_src_root/nn00004/41/datasrc/sample_cnn_img.zip2)'}}\n",
      "{'File1': {'File': 'File Create.(/hoya_src_root/nn00004/41/evaldata/sample_cnn_img.zip2)'}, 'File0': {'File': 'File Create.(/hoya_src_root/nn00004/41/evaldata/sample_cnn_img.zip2)'}}\n"
     ]
    }
   ],
   "source": [
    "# get workflow node list info (train, eval)\n",
    "resp = requests.get('http://' + url + '/api/v1/type/wf/state/data/detail/upload/file/nnid/'+nn_id+'/ver/'+wf_ver_id+'/dir/'+node_sub_menu+'/')\n",
    "datalist = json.loads(resp.json())\n",
    "\n",
    "print(\"get file node list\")\n",
    "for node in datalist:\n",
    "    print(datalist[node])\n",
    "print(\"\")\n",
    "\n",
    "# Train Folder에 Data를 위치 시킬지 Eval Folder에 Data를 위치 시킬지 결정후 전송해야 한다.\n",
    "print(\"create file node list\")\n",
    "for node in datalist:\n",
    "    typepath = datalist[node][\"nn_wf_node_name\"]\n",
    "\n",
    "    files = {'file1': open('/home/dev/hoyai/demo/data/cat_vs_dog.zip','rb'),\n",
    "             'file2': open('/home/dev/hoyai/demo/data/sample_cnn_img.zip','rb')}\n",
    "\n",
    "    resp = requests.post('http://' + url + '/api/v1/type/wf/state/data/detail/upload/file/nnid/'+nn_id+'/ver/'+wf_ver_id+'/dir/'+typepath+'/',\n",
    "                         files=files)\n",
    "    data = json.loads(resp.json())\n",
    "    print(data)"
   ]
  },
  {
   "cell_type": "markdown",
   "metadata": {},
   "source": [
    "# CNN Network Training\n",
    "(CNN Network Training을 실행한다.)<br>"
   ]
  },
  {
   "cell_type": "code",
   "execution_count": 32,
   "metadata": {
    "collapsed": false
   },
   "outputs": [
    {
     "name": "stdout",
     "output_type": "stream",
     "text": [
      "['Trainning .................................................']\n",
      "['Global Step:     18800, Training Batch Accuracy:  94.12%']\n",
      "\n",
      "['Trainning .................................................']\n",
      "['Global Step:     18900, Training Batch Accuracy:  100.0%']\n",
      "\n",
      "['Trainning .................................................']\n",
      "['Global Step:     19000, Training Batch Accuracy:  94.12%']\n",
      "\n",
      "['Eval ......................................................']\n",
      "Category : motor          TotalCnt=9       TrueCnt=9       FalseCnt=0       True Percent(TrueCnt/TotalCnt*100)=100%\n",
      "Category : car            TotalCnt=9       TrueCnt=9       FalseCnt=0       True Percent(TrueCnt/TotalCnt*100)=100%\n",
      "Category : glove          TotalCnt=9       TrueCnt=9       FalseCnt=0       True Percent(TrueCnt/TotalCnt*100)=100%\n",
      "Category : airplane       TotalCnt=9       TrueCnt=9       FalseCnt=0       True Percent(TrueCnt/TotalCnt*100)=100%\n",
      "Category : bolt           TotalCnt=9       TrueCnt=9       FalseCnt=0       True Percent(TrueCnt/TotalCnt*100)=100%\n",
      "Category : dog            TotalCnt=2       TrueCnt=2       FalseCnt=0       True Percent(TrueCnt/TotalCnt*100)=100%\n",
      "Category : cat            TotalCnt=2       TrueCnt=0       FalseCnt=2       True Percent(TrueCnt/TotalCnt*100)=0%\n",
      "Total Category=7          TotalCnt=49      TrueCnt=47      FalseCnt=2       True Percent(TrueCnt/TotalCnt*100)=96%\n"
     ]
    }
   ],
   "source": [
    "resp = requests.post('http://' + url + '/api/v1/type/runmanager/state/train/nnid/'+nn_id+'/ver/'+wf_ver_id+'/')\n",
    "data = json.loads(resp.json())\n",
    "\n",
    "for train in data:\n",
    "    if train != None and train != \"\" and train != {} and train != \"status\" and train != \"result\" and train[\"TrainResult\"] != None:\n",
    "        for tr in train[\"TrainResult\"]:\n",
    "            print(tr)\n"
   ]
  },
  {
   "cell_type": "markdown",
   "metadata": {},
   "source": [
    "# CNN Network Predict\n",
    "(CNN Network Predict를 실행한다.)<br>"
   ]
  },
  {
   "cell_type": "code",
   "execution_count": 36,
   "metadata": {
    "collapsed": false
   },
   "outputs": [
    {
     "name": "stdout",
     "output_type": "stream",
     "text": [
      "FileName = 2motor.jpg\n",
      "['motor', 'car', 'bolt', 'glove', 'airplane', 'dog', 'cat']\n",
      "[14.99777, -4.35217, -6.19608, -10.88464, -16.04097, -67.7343, -72.09739]\n",
      "\n",
      "FileName = 1bolt.jpg\n",
      "['bolt', 'car', 'motor', 'airplane', 'glove', 'cat', 'dog']\n",
      "[12.81746, 0.44413, -1.63579, -6.92849, -7.73823, -59.14909, -60.71812]\n",
      "\n",
      "FileName = 2glove.jpg\n",
      "['glove', 'car', 'motor', 'airplane', 'bolt', 'cat', 'dog']\n",
      "[32.58467, 2.72639, 1.45744, -3.04392, -16.58803, -47.1907, -47.98614]\n",
      "\n",
      "FileName = 2car.jpg\n",
      "['car', 'bolt', 'motor', 'airplane', 'glove', 'cat', 'dog']\n",
      "[10.66835, -2.51136, -4.20377, -5.79891, -6.15488, -46.48526, -47.37491]\n",
      "\n",
      "FileName = 1air.jpg\n",
      "['airplane', 'car', 'glove', 'motor', 'bolt', 'dog', 'cat']\n",
      "[31.34907, 8.07266, -4.14651, -20.40713, -22.89817, -102.59372, -106.66107]\n",
      "\n",
      "FileName = 1motor.jpg\n",
      "['motor', 'car', 'airplane', 'bolt', 'glove', 'dog', 'cat']\n",
      "[8.08249, -0.74158, -3.95182, -5.29378, -6.05307, -20.20605, -24.78433]\n",
      "\n",
      "FileName = 2bolt.jpg\n",
      "['bolt', 'car', 'motor', 'glove', 'airplane', 'dog', 'cat']\n",
      "[74.7282, -7.49188, -20.8815, -30.62713, -43.92162, -193.9227, -200.7607]\n",
      "\n",
      "FileName = 2air.jpg\n",
      "['airplane', 'car', 'glove', 'motor', 'bolt', 'dog', 'cat']\n",
      "[54.03324, -0.8268, -3.41773, -14.82849, -45.40748, -210.03622, -218.2993]\n",
      "\n",
      "FileName = 1glove.jpg\n",
      "['glove', 'bolt', 'motor', 'car', 'airplane', 'cat', 'dog']\n",
      "[53.81686, 0.64912, -1.71613, -24.30475, -37.70285, -138.03085, -178.58125]\n",
      "\n",
      "FileName = 1car.jpg\n",
      "['car', 'bolt', 'airplane', 'glove', 'motor', 'cat', 'dog']\n",
      "[16.21622, -1.55537, -3.1001, -10.43947, -11.12399, -92.99351, -94.74003]\n",
      "\n"
     ]
    }
   ],
   "source": [
    "files = {\n",
    "         'files000001':  open('/home/dev/hoyai/demo/data/airplane/1air.jpg','rb')\n",
    "        ,'files000002':  open('/home/dev/hoyai/demo/data/airplane/2air.jpg','rb')\n",
    "        ,'files000003':  open('/home/dev/hoyai/demo/data/bolt/1bolt.jpg','rb')\n",
    "        ,'files000004':  open('/home/dev/hoyai/demo/data/bolt/2bolt.jpg','rb')\n",
    "        ,'files000005':  open('/home/dev/hoyai/demo/data/car/1car.jpg','rb')\n",
    "        ,'files000006':  open('/home/dev/hoyai/demo/data/car/2car.jpg','rb')\n",
    "        ,'files000007':  open('/home/dev/hoyai/demo/data/glove/1glove.jpg','rb')\n",
    "        ,'files000008':  open('/home/dev/hoyai/demo/data/glove/2glove.jpg','rb')\n",
    "        ,'files000009':  open('/home/dev/hoyai/demo/data/motor/1motor.jpg','rb')\n",
    "        ,'files000010':  open('/home/dev/hoyai/demo/data/motor/2motor.jpg','rb')\n",
    "        }\n",
    "restURL = 'http://' + url + '/api/v1/type/service/state/predict/type/'+network_type+'/nnid/'+nn_id+'/ver/'+wf_ver_id+'/'\n",
    "\n",
    "resp = requests.post(restURL,\n",
    "                     files=files\n",
    "                     )\n",
    "data = json.loads(resp.json())\n",
    "\n",
    "for train in data:\n",
    "    print(\"FileName = \"+train)\n",
    "    print(data[train]['key'])\n",
    "    print(data[train]['val'])\n",
    "    print('')"
   ]
  },
  {
   "cell_type": "code",
   "execution_count": null,
   "metadata": {
    "collapsed": true
   },
   "outputs": [],
   "source": []
  }
 ],
 "metadata": {
  "anaconda-cloud": {},
  "kernelspec": {
   "display_name": "Python [conda root]",
   "language": "python",
   "name": "conda-root-py"
  },
  "language_info": {
   "codemirror_mode": {
    "name": "ipython",
    "version": 3
   },
   "file_extension": ".py",
   "mimetype": "text/x-python",
   "name": "python",
   "nbconvert_exporter": "python",
   "pygments_lexer": "ipython3",
   "version": "3.5.2"
  }
 },
 "nbformat": 4,
 "nbformat_minor": 1
}
